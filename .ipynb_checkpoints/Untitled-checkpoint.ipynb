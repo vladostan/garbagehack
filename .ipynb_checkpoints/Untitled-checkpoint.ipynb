{
 "cells": [
  {
   "cell_type": "code",
   "execution_count": 4,
   "metadata": {},
   "outputs": [
    {
     "name": "stderr",
     "output_type": "stream",
     "text": [
      "C:\\Users\\vlado\\Anaconda3\\lib\\site-packages\\ipykernel_launcher.py:12: RuntimeWarning: invalid value encountered in less\n",
      "  if sys.path[0] == '':\n"
     ]
    },
    {
     "data": {
      "application/vnd.jupyter.widget-view+json": {
       "model_id": "51908ce6440c4efcadfb1ec5ede6871a",
       "version_major": 2,
       "version_minor": 0
      },
      "text/plain": [
       "Renderer(camera=PerspectiveCamera(aspect=1.6, fov=90.0, position=(-0.05691932886838913, 0.27873589005321264, 3…"
      ]
     },
     "metadata": {},
     "output_type": "display_data"
    },
    {
     "data": {
      "application/vnd.jupyter.widget-view+json": {
       "model_id": "1972ecb34b11415cb8350db7c3836d79",
       "version_major": 2,
       "version_minor": 0
      },
      "text/plain": [
       "HBox(children=(Label(value='Point size:'), FloatSlider(value=0.22652335166931153, max=2.2652335166931152, step…"
      ]
     },
     "metadata": {},
     "output_type": "display_data"
    }
   ],
   "source": [
    "from pyntcloud import PyntCloud\n",
    "import numpy as np\n",
    "\n",
    "pcd_file = \"learn0\"\n",
    "\n",
    "cloud = PyntCloud.from_file(\"pcd/pcd/\" + pcd_file + \".pcd\")\n",
    "is_floor = cloud.add_scalar_field(\"plane_fit\")\n",
    "#cloud.plot(use_as_color=is_floor, cmap='cool')\n",
    "\n",
    "arr = np.asarray(cloud.points)\n",
    "\n",
    "bools = arr[:,0] < float(\"inf\")\n",
    "\n",
    "cloud.apply_filter(bools)\n",
    "\n",
    "bools2 = arr[:,-1] == 1\n",
    "\n",
    "cloud.apply_filter(bools2)\n",
    "\n",
    "cloud.plot()\n",
    "\n",
    "# is_floor = cloud.add_scalar_field(\"plane_fit\")\n",
    "# cloud.plot(use_as_color=is_floor, cmap='cool')"
   ]
  },
  {
   "cell_type": "code",
   "execution_count": null,
   "metadata": {},
   "outputs": [],
   "source": []
  }
 ],
 "metadata": {
  "kernelspec": {
   "display_name": "Python 3",
   "language": "python",
   "name": "python3"
  },
  "language_info": {
   "codemirror_mode": {
    "name": "ipython",
    "version": 3
   },
   "file_extension": ".py",
   "mimetype": "text/x-python",
   "name": "python",
   "nbconvert_exporter": "python",
   "pygments_lexer": "ipython3",
   "version": "3.6.6"
  }
 },
 "nbformat": 4,
 "nbformat_minor": 2
}
