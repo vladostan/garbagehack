{
 "cells": [
  {
   "cell_type": "code",
   "execution_count": 6,
   "metadata": {},
   "outputs": [
    {
     "data": {
      "application/vnd.jupyter.widget-view+json": {
       "model_id": "237c9a08236e4acf905490274e69d8e5",
       "version_major": 2,
       "version_minor": 0
      },
      "text/plain": [
       "Renderer(camera=PerspectiveCamera(aspect=1.6, fov=90.0, position=(-0.045459866523742676, 0.3856775090098381, 3…"
      ]
     },
     "metadata": {},
     "output_type": "display_data"
    },
    {
     "data": {
      "application/vnd.jupyter.widget-view+json": {
       "model_id": "9204cf1f01a14bb092e61f40c63b9852",
       "version_major": 2,
       "version_minor": 0
      },
      "text/plain": [
       "HBox(children=(Label(value='Point size:'), FloatSlider(value=0.20962057113647461, max=2.096205711364746, step=…"
      ]
     },
     "metadata": {},
     "output_type": "display_data"
    }
   ],
   "source": [
    "from pyntcloud import PyntCloud\n",
    "import numpy as np\n",
    "\n",
    "pcd_file = \"learn0\"\n",
    "\n",
    "cloud = PyntCloud.from_file(\"pcd/pcd/\" + pcd_file + \".pcd\")\n",
    "is_floor = cloud.add_scalar_field(\"plane_fit\")\n",
    "#cloud.plot(use_as_color=is_floor, cmap='cool')\n",
    "\n",
    "arr = np.asarray(cloud.points)\n",
    "\n",
    "# bools = arr[:,0] < float(\"inf\")\n",
    "\n",
    "# cloud.apply_filter(bools)\n",
    "\n",
    "bools2 = arr[:,-1] == 1\n",
    "\n",
    "cloud.apply_filter(bools2)\n",
    "\n",
    "cloud.plot()\n",
    "\n",
    "# is_floor = cloud.add_scalar_field(\"plane_fit\")\n",
    "# cloud.plot(use_as_color=is_floor, cmap='cool')"
   ]
  },
  {
   "cell_type": "code",
   "execution_count": null,
   "metadata": {},
   "outputs": [],
   "source": []
  }
 ],
 "metadata": {
  "kernelspec": {
   "display_name": "Python 3",
   "language": "python",
   "name": "python3"
  },
  "language_info": {
   "codemirror_mode": {
    "name": "ipython",
    "version": 3
   },
   "file_extension": ".py",
   "mimetype": "text/x-python",
   "name": "python",
   "nbconvert_exporter": "python",
   "pygments_lexer": "ipython3",
   "version": "3.6.6"
  }
 },
 "nbformat": 4,
 "nbformat_minor": 2
}
